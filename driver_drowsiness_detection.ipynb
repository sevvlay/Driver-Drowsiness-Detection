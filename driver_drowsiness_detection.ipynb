{
 "cells": [
  {
   "cell_type": "markdown",
   "id": "1a48ce54",
   "metadata": {},
   "source": [
    "# Basic Libraries and Seed Setup\n",
    "\n",
    "- Import essential libraries for OS operations, randomness control, numerical operations, and PyTorch.\n",
    "- Fix the random seed across Python's `random`, NumPy, and PyTorch (CPU & GPU) to ensure reproducible results.\n",
    "- Detect and select the computation device automatically: use GPU if available, otherwise fallback to CPU.\n",
    "- Print out the selected device to confirm hardware usage."
   ]
  },
  {
   "cell_type": "code",
   "execution_count": null,
   "id": "edf2b248",
   "metadata": {},
   "outputs": [
    {
     "name": "stdout",
     "output_type": "stream",
     "text": [
      "Device: cuda\n"
     ]
    }
   ],
   "source": [
    "# 1. Basic libraries and seed setup\n",
    "import os\n",
    "import random\n",
    "import numpy as np\n",
    "import torch\n",
    "\n",
    "# Set seed for reproducibility to ensure consistent results\n",
    "SEED = 42\n",
    "random.seed(SEED)\n",
    "np.random.seed(SEED)\n",
    "torch.manual_seed(SEED)\n",
    "torch.cuda.manual_seed_all(SEED)\n",
    "\n",
    "device = torch.device(\"cuda\" if torch.cuda.is_available() else \"cpu\")\n",
    "print(f\"Device: {device}\")\n"
   ]
  },
  {
   "cell_type": "markdown",
   "id": "c59bacbf",
   "metadata": {},
   "source": [
    "# Dataset Preparation and Data Loading\n",
    "\n",
    "- Define paths for training and validation image directories.\n",
    "- Specify image size and create data augmentation/transformation pipelines:\n",
    "  - Training: resizing, random flips, rotations, color jitter, normalization.\n",
    "  - Validation: resizing and normalization only (no augmentation).\n",
    "- Load datasets from folders using `ImageFolder`, applying corresponding transforms.\n",
    "- Create `DataLoader` objects for batching, shuffling (training only), and parallel data loading.\n",
    "- Print dataset sizes to verify loading.\n"
   ]
  },
  {
   "cell_type": "code",
   "execution_count": null,
   "id": "3db7d948",
   "metadata": {},
   "outputs": [
    {
     "name": "stdout",
     "output_type": "stream",
     "text": [
      "Train samples: 35997 | Val samples: 8940\n"
     ]
    }
   ],
   "source": [
    "from torchvision import datasets, transforms\n",
    "from torch.utils.data import DataLoader\n",
    "\n",
    "BASE_DIR    = r\"C:\\DataSets\\CombinedDrowsy\"\n",
    "TRAIN_DIR   = os.path.join(BASE_DIR, \"train\")\n",
    "VAL_DIR     = os.path.join(BASE_DIR, \"val\")\n",
    "\n",
    "# Transformations for training set: augmentation + normalization\n",
    "IMG_SIZE = 224\n",
    "train_transforms = transforms.Compose([\n",
    "    transforms.Resize((IMG_SIZE, IMG_SIZE)),\n",
    "    transforms.RandomHorizontalFlip(),\n",
    "    transforms.RandomRotation(10),\n",
    "    transforms.ColorJitter(0.2,0.2,0.2,0.1),\n",
    "    transforms.ToTensor(),\n",
    "    transforms.Normalize([0.485,0.456,0.406],\n",
    "                         [0.229,0.224,0.225])\n",
    "])\n",
    "val_transforms = transforms.Compose([\n",
    "    transforms.Resize((IMG_SIZE, IMG_SIZE)),\n",
    "    transforms.ToTensor(),\n",
    "    transforms.Normalize([0.485,0.456,0.406],\n",
    "                         [0.229,0.224,0.225])\n",
    "])\n",
    "\n",
    "# Dataset & DataLoader\n",
    "train_ds = datasets.ImageFolder(TRAIN_DIR, transform=train_transforms)\n",
    "val_ds   = datasets.ImageFolder(VAL_DIR,   transform=val_transforms)\n",
    "\n",
    "BATCH_SIZE = 32\n",
    "train_loader = DataLoader(train_ds, batch_size=BATCH_SIZE, shuffle=True,  num_workers=4, pin_memory=True)\n",
    "val_loader   = DataLoader(val_ds,   batch_size=BATCH_SIZE, shuffle=False, num_workers=4, pin_memory=True)\n",
    "\n",
    "print(f\"Train samples: {len(train_ds)} | Val samples: {len(val_ds)}\")\n"
   ]
  },
  {
   "cell_type": "markdown",
   "id": "ade9db01",
   "metadata": {},
   "source": [
    "# DrowsyNet Model\n",
    "\n",
    "- Use a pretrained MobileNetV2 as the base feature extractor.\n",
    "- Freeze all base model layers to avoid training them (fine-tuning only on final layers).\n",
    "- Add an adaptive average pooling layer to reduce spatial dimensions.\n",
    "- Include dropout for regularization to prevent overfitting.\n",
    "- Add a fully connected layer with 2 output neurons for binary classification (drowsy vs. alert).\n",
    "- In the forward pass:\n",
    "  - Extract features using the frozen base.\n",
    "  - Pool and flatten the feature maps.\n",
    "  - Apply dropout.\n",
    "  - Pass through the final fully connected layer to get class logits.\n"
   ]
  },
  {
   "cell_type": "code",
   "execution_count": null,
   "id": "81329461",
   "metadata": {},
   "outputs": [],
   "source": [
    "import torch.nn as nn\n",
    "from torchvision import models\n",
    "\n",
    "class DrowsyNet(nn.Module):\n",
    "    def __init__(self, dropout_rate):\n",
    "        super().__init__()\n",
    "        base = models.mobilenet_v2(pretrained=True)\n",
    "        # Freeze all layers to prevent training except the final layers (fine-tuning)\n",
    "        for p in base.parameters():\n",
    "            p.requires_grad = False\n",
    "\n",
    "        self.features = base.features\n",
    "        self.pool     = nn.AdaptiveAvgPool2d((1,1))\n",
    "        self.dropout  = nn.Dropout(dropout_rate)\n",
    "        self.fc       = nn.Linear(base.last_channel, 2)\n",
    "\n",
    "    def forward(self, x):\n",
    "        x = self.features(x)\n",
    "        x = self.pool(x).view(x.size(0), -1)\n",
    "        x = self.dropout(x)\n",
    "        return self.fc(x)\n"
   ]
  },
  {
   "cell_type": "markdown",
   "id": "3eb6bc7b",
   "metadata": {},
   "source": [
    "# Training and Validation Functions\n",
    "\n",
    "- `train_one_epoch`:\n",
    "  - Sets the model to training mode.\n",
    "  - Iterates over training batches, moves data to the device.\n",
    "  - Performs forward pass, computes loss, backpropagates, and updates weights.\n",
    "  - Accumulates total loss and counts correct predictions for accuracy.\n",
    "  - Returns average loss and accuracy over the entire training dataset.\n",
    "\n",
    "- `validate`:\n",
    "  - Sets the model to evaluation mode (disables dropout, batch norm updates).\n",
    "  - Iterates over validation batches without gradient calculation.\n",
    "  - Computes loss and counts correct predictions.\n",
    "  - Returns average loss and accuracy on the validation dataset.\n"
   ]
  },
  {
   "cell_type": "code",
   "execution_count": 7,
   "id": "d0c650de",
   "metadata": {},
   "outputs": [],
   "source": [
    "import torch.optim as optim\n",
    "from sklearn.utils.class_weight import compute_class_weight\n",
    "\n",
    "def train_one_epoch(model, loader, criterion, optimizer):\n",
    "    model.train()\n",
    "    total_loss, correct = 0, 0\n",
    "    for X, y in loader:\n",
    "        X, y = X.to(device), y.to(device)\n",
    "        optimizer.zero_grad()\n",
    "        out = model(X)\n",
    "        loss = criterion(out, y)\n",
    "        loss.backward()\n",
    "        optimizer.step()\n",
    "        total_loss += loss.item() * X.size(0)\n",
    "        correct    += (out.argmax(1)==y).sum().item()\n",
    "    return total_loss/len(loader.dataset), correct/len(loader.dataset)\n",
    "\n",
    "def validate(model, loader, criterion):\n",
    "    model.eval()\n",
    "    total_loss, correct = 0, 0\n",
    "    with torch.no_grad():\n",
    "        for X, y in loader:\n",
    "            X, y = X.to(device), y.to(device)\n",
    "            out = model(X)\n",
    "            loss = criterion(out, y)\n",
    "            total_loss += loss.item() * X.size(0)\n",
    "            correct    += (out.argmax(1)==y).sum().item()\n",
    "    return total_loss/len(loader.dataset), correct/len(loader.dataset)\n"
   ]
  },
  {
   "cell_type": "markdown",
   "id": "f0030512",
   "metadata": {},
   "source": [
    "# Bayesian Optimization for Hyperparameter Tuning\n",
    "\n",
    "- **Bayesian Optimization** is a probabilistic model-based method for global optimization of black-box functions that are expensive to evaluate.\n",
    "- It builds a surrogate model (often Gaussian Process) to approximate the objective function and uses an acquisition function to decide where to sample next, balancing exploration and exploitation.\n",
    "- In this context, Bayesian Optimization is used to find optimal hyperparameters for the model, such as learning rate, weight decay, and dropout rate, by maximizing validation accuracy.\n",
    "- The `objective` function:\n",
    "  - Initializes the `DrowsyNet` with a specified dropout rate.\n",
    "  - Applies class-weighted cross-entropy loss to address class imbalance.\n",
    "  - Uses Adam optimizer configured with learning rate and weight decay.\n",
    "  - Executes a single epoch of training and validation.\n",
    "  - Returns the validation accuracy as the optimization target.\n",
    "- `pbounds` defines the search space for:\n",
    "  - Learning rate (`lr`) in [1e-5, 1e-3]\n",
    "  - Weight decay (`wd`) in [1e-6, 1e-3]\n",
    "  - Dropout rate (`dr`) in [0.2, 0.7]\n",
    "- This efficient hyperparameter search reduces the number of costly training cycles needed compared to grid or random search.\n"
   ]
  },
  {
   "cell_type": "code",
   "execution_count": null,
   "id": "d6f7bb50",
   "metadata": {},
   "outputs": [],
   "source": [
    "from bayes_opt import BayesianOptimization\n",
    "\n",
    "def objective(lr, wd, dr):\n",
    "    # lr: learning rate, wd: weight_decay, dr: dropout_rate\n",
    "    # Initialize the model with given dropout rate\n",
    "    model = DrowsyNet(dropout_rate=dr).to(device)\n",
    "    y = train_ds.targets\n",
    "    class_weights = compute_class_weight('balanced', classes=np.unique(y), y=y)\n",
    "    criterion = nn.CrossEntropyLoss(weight=torch.tensor(class_weights,dtype=torch.float).to(device))\n",
    "    optimizer = optim.Adam(model.parameters(), lr=lr, weight_decay=wd)\n",
    "\n",
    "    train_loss, train_acc = train_one_epoch(model, train_loader, criterion, optimizer)\n",
    "    val_loss, val_acc     = validate(model, val_loader,   criterion)\n",
    "\n",
    "    # Objective: validation accuracy\n",
    "    return val_acc\n",
    "\n",
    "# Define hyperparameter search space bounds\n",
    "pbounds = {\n",
    "    'lr': (1e-5, 1e-3),\n",
    "    'wd': (1e-6, 1e-3),\n",
    "    'dr': (0.2, 0.7)\n",
    "}\n"
   ]
  },
  {
   "cell_type": "markdown",
   "id": "f823725a",
   "metadata": {},
   "source": [
    "# Bayesian Optimization Execution and Results\n",
    "\n",
    "- Suppress warnings for cleaner output.\n",
    "- Initialize the `BayesianOptimization` object with:\n",
    "  - The objective function to maximize.\n",
    "  - The defined hyperparameter bounds.\n",
    "  - A fixed random seed for reproducibility.\n",
    "  - Verbose logging for detailed progress info.\n",
    "- Run the optimization:\n",
    "  - `init_points=5`: Random initial explorations.\n",
    "  - `n_iter=15`: Subsequent guided searches based on the surrogate model.\n",
    "- After optimization, print the best achieved validation accuracy (`Best result`) and corresponding hyperparameters (`Best params`).\n",
    "- Example output shows a best validation accuracy of approximately 0.91 with specific learning rate, weight decay, and dropout values.\n",
    "- This process efficiently identifies effective hyperparameters to improve model performance.\n"
   ]
  },
  {
   "cell_type": "code",
   "execution_count": 10,
   "id": "54f7a7ba",
   "metadata": {},
   "outputs": [
    {
     "name": "stdout",
     "output_type": "stream",
     "text": [
      "|   iter    |  target   |    lr     |    wd     |    dr     |\n",
      "-------------------------------------------------------------\n",
      "| \u001b[39m2        \u001b[39m | \u001b[39m0.8868008\u001b[39m | \u001b[39m0.0003807\u001b[39m | \u001b[39m0.0009507\u001b[39m | \u001b[39m0.5659969\u001b[39m |\n",
      "| \u001b[39m3        \u001b[39m | \u001b[39m0.8759507\u001b[39m | \u001b[39m0.0006026\u001b[39m | \u001b[39m0.0001568\u001b[39m | \u001b[39m0.2779972\u001b[39m |\n",
      "| \u001b[39m4        \u001b[39m | \u001b[39m0.7996644\u001b[39m | \u001b[39m-.750e-05\u001b[39m | \u001b[39m0.0008663\u001b[39m | \u001b[39m0.5005575\u001b[39m |\n",
      "| \u001b[39m5        \u001b[39m | \u001b[39m0.8711409\u001b[39m | \u001b[39m0.0007109\u001b[39m | \u001b[39m-.156e-05\u001b[39m | \u001b[39m0.6849549\u001b[39m |\n",
      "| \u001b[35m6        \u001b[39m | \u001b[35m0.8992170\u001b[39m | \u001b[35m0.0008341\u001b[39m | \u001b[35m0.0002131\u001b[39m | \u001b[35m0.2909124\u001b[39m |\n",
      "| \u001b[39m7        \u001b[39m | \u001b[39m0.8860178\u001b[39m | \u001b[39m0.001    \u001b[39m | \u001b[39m0.0003230\u001b[39m | \u001b[39m0.3161822\u001b[39m |\n",
      "| \u001b[39m8        \u001b[39m | \u001b[39m0.8081655\u001b[39m | \u001b[39m0.0009397\u001b[39m | \u001b[39m0.0002256\u001b[39m | \u001b[39m0.3160781\u001b[39m |\n",
      "| \u001b[35m9        \u001b[39m | \u001b[35m0.9100671\u001b[39m | \u001b[35m0.0009079\u001b[39m | \u001b[35m0.0002211\u001b[39m | \u001b[35m0.2908160\u001b[39m |\n",
      "| \u001b[35m10       \u001b[39m | \u001b[35m0.9115212\u001b[39m | \u001b[35m0.0008238\u001b[39m | \u001b[35m0.0002764\u001b[39m | \u001b[35m0.2908122\u001b[39m |\n",
      "| \u001b[39m11       \u001b[39m | \u001b[39m0.8863534\u001b[39m | \u001b[39m0.0005129\u001b[39m | \u001b[39m-.039e-05\u001b[39m | \u001b[39m0.2778929\u001b[39m |\n",
      "| \u001b[39m12       \u001b[39m | \u001b[39m0.8630872\u001b[39m | \u001b[39m0.0007867\u001b[39m | \u001b[39m0.0001348\u001b[39m | \u001b[39m0.2907230\u001b[39m |\n",
      "| \u001b[39m13       \u001b[39m | \u001b[39m0.8299776\u001b[39m | \u001b[39m0.0008205\u001b[39m | \u001b[39m0.0002065\u001b[39m | \u001b[39m0.2909128\u001b[39m |\n",
      "| \u001b[39m14       \u001b[39m | \u001b[39m0.8866890\u001b[39m | \u001b[39m0.0009063\u001b[39m | \u001b[39m0.0002139\u001b[39m | \u001b[39m0.2908257\u001b[39m |\n",
      "| \u001b[39m15       \u001b[39m | \u001b[39m0.8911633\u001b[39m | \u001b[39m0.0009829\u001b[39m | \u001b[39m0.0001968\u001b[39m | \u001b[39m0.2909630\u001b[39m |\n",
      "| \u001b[39m16       \u001b[39m | \u001b[39m0.9007829\u001b[39m | \u001b[39m0.0004776\u001b[39m | \u001b[39m0.0001760\u001b[39m | \u001b[39m0.2167042\u001b[39m |\n",
      "| \u001b[39m17       \u001b[39m | \u001b[39m0.8813199\u001b[39m | \u001b[39m0.0008161\u001b[39m | \u001b[39m0.0003957\u001b[39m | \u001b[39m0.2908500\u001b[39m |\n",
      "| \u001b[39m18       \u001b[39m | \u001b[39m0.9036912\u001b[39m | \u001b[39m0.0008293\u001b[39m | \u001b[39m0.0002741\u001b[39m | \u001b[39m0.2908016\u001b[39m |\n",
      "| \u001b[39m19       \u001b[39m | \u001b[39m0.8588366\u001b[39m | \u001b[39m0.0009845\u001b[39m | \u001b[39m0.0007369\u001b[39m | \u001b[39m0.5421800\u001b[39m |\n",
      "| \u001b[39m20       \u001b[39m | \u001b[39m0.8431767\u001b[39m | \u001b[39m0.0004733\u001b[39m | \u001b[39m0.0002334\u001b[39m | \u001b[39m0.2778637\u001b[39m |\n",
      "| \u001b[39m21       \u001b[39m | \u001b[39m0.8521252\u001b[39m | \u001b[39m0.0009597\u001b[39m | \u001b[39m-.884e-05\u001b[39m | \u001b[39m0.6836452\u001b[39m |\n",
      "=============================================================\n",
      ">> Best result: 0.9115212527964206\n",
      ">> Best params: {'lr': 0.0008238732603732154, 'wd': 0.0002764889016162441, 'dr': 0.29081222179068594}\n"
     ]
    }
   ],
   "source": [
    "import warnings\n",
    "\n",
    "warnings.filterwarnings('ignore')\n",
    "\n",
    "optimizer = BayesianOptimization(\n",
    "    f=objective,\n",
    "    pbounds=pbounds,\n",
    "    random_state=SEED,\n",
    "    verbose=2\n",
    ")\n",
    "\n",
    "optimizer.maximize(init_points=5, n_iter=15)\n",
    "\n",
    "print(\">> Best result:\", optimizer.max['target'])\n",
    "print(\">> Best params:\", optimizer.max['params'])\n"
   ]
  },
  {
   "cell_type": "code",
   "execution_count": null,
   "id": "c634bac4",
   "metadata": {},
   "outputs": [
    {
     "name": "stdout",
     "output_type": "stream",
     "text": [
      "0.0008238732603732154 0.0002764889016162441 0.29081222179068594\n"
     ]
    }
   ],
   "source": [
    "best = optimizer.max['params']\n",
    "best_lr = best['lr']\n",
    "best_wd = best['wd']\n",
    "best_dr = best['dr']\n",
    "print(best_lr, best_wd, best_dr)\n",
    "\n",
    "# Initialize the final model with the best dropout rate\n",
    "final_model = DrowsyNet(dropout_rate=best_dr).to(device)\n",
    "criterion = nn.CrossEntropyLoss(weight=torch.tensor(\n",
    "    compute_class_weight('balanced', classes=np.unique(train_ds.targets), y=train_ds.targets),\n",
    "    dtype=torch.float).to(device))\n",
    "optimizer_f = optim.Adam(final_model.parameters(), lr=best_lr, weight_decay=best_wd)\n"
   ]
  },
  {
   "cell_type": "markdown",
   "id": "c5190bd4",
   "metadata": {},
   "source": [
    "# Training Loop with Learning Rate Scheduler and Early Stopping\n",
    "\n",
    "- Use `ReduceLROnPlateau` scheduler to reduce learning rate by half if validation loss plateaus for 3 epochs.\n",
    "- Initialize variables to track best validation accuracy, patience for early stopping, and training history.\n",
    "- For each epoch (up to 30):\n",
    "  1. Train the model for one epoch and validate it.\n",
    "  2. Step the scheduler based on validation loss; print if learning rate is reduced.\n",
    "  3. Append training and validation loss and accuracy to history.\n",
    "  4. Print epoch summary with train/validation accuracy and loss.\n",
    "  5. Save the model checkpoint if validation accuracy improves; reset patience.\n",
    "  6. If no improvement for 5 consecutive epochs, stop training early.\n",
    "- This approach helps avoid overfitting and optimizes training time by dynamically adjusting learning rate and stopping when progress stalls.\n"
   ]
  },
  {
   "cell_type": "code",
   "execution_count": null,
   "id": "eb2153ed",
   "metadata": {},
   "outputs": [
    {
     "name": "stdout",
     "output_type": "stream",
     "text": [
      "Epoch 01  ➝  Train: 0.8108/0.4220 — Val: 0.9017/0.2878\n",
      "Epoch 02  ➝  Train: 0.8427/0.3610 — Val: 0.8876/0.2882\n",
      "Epoch 03  ➝  Train: 0.8417/0.3613 — Val: 0.8662/0.3138\n",
      "Epoch 04  ➝  Train: 0.8457/0.3615 — Val: 0.8808/0.2895\n",
      "Epoch 05  ➝  Train: 0.8461/0.3551 — Val: 0.9198/0.2309\n",
      "Epoch 06  ➝  Train: 0.8443/0.3595 — Val: 0.9168/0.2384\n",
      "Epoch 07  ➝  Train: 0.8489/0.3522 — Val: 0.9233/0.2264\n",
      "Epoch 08  ➝  Train: 0.8451/0.3594 — Val: 0.9234/0.2222\n",
      "Epoch 09  ➝  Train: 0.8439/0.3626 — Val: 0.9200/0.2308\n",
      "Epoch 10  ➝  Train: 0.8468/0.3574 — Val: 0.9154/0.2293\n",
      "Epoch 11  ➝  Train: 0.8430/0.3662 — Val: 0.9109/0.2413\n",
      "Epoch 12  ➝  Train: 0.8453/0.3612 — Val: 0.9306/0.2153\n",
      "Epoch 13  ➝  Train: 0.8456/0.3579 — Val: 0.9025/0.2531\n",
      "Epoch 14  ➝  Train: 0.8423/0.3657 — Val: 0.9273/0.2183\n",
      "Epoch 15  ➝  Train: 0.8433/0.3651 — Val: 0.9289/0.2186\n",
      "Epoch 16: LR reduced from 8.2e-04 to 4.1e-04\n",
      "Epoch 16  ➝  Train: 0.8441/0.3627 — Val: 0.9133/0.2354\n",
      "Epoch 17  ➝  Train: 0.8500/0.3476 — Val: 0.9284/0.2179\n",
      "Early stopping!\n"
     ]
    }
   ],
   "source": [
    "from torch.optim.lr_scheduler import ReduceLROnPlateau\n",
    "\n",
    "# Setup LR scheduler to reduce LR when val loss plateaus\n",
    "scheduler = ReduceLROnPlateau(optimizer_f, mode='min', factor=0.5, patience=3)\n",
    "\n",
    "best_val_acc = 0\n",
    "patience = 0\n",
    "history = {'train_loss':[], 'train_acc':[], 'val_loss':[], 'val_acc':[]}\n",
    "\n",
    "for epoch in range(1, 31):\n",
    "    # Train and validate for one epoch\n",
    "    tl, ta = train_one_epoch(final_model, train_loader, criterion, optimizer_f)\n",
    "    vl, va = validate(final_model,   val_loader,   criterion)\n",
    "    \n",
    "    # Adjust learning rate based on val loss\n",
    "    old_lr = optimizer_f.param_groups[0]['lr']\n",
    "    scheduler.step(vl)\n",
    "    new_lr = optimizer_f.param_groups[0]['lr']\n",
    "    if new_lr != old_lr:\n",
    "        print(f\"Epoch {epoch:02d}: LR reduced from {old_lr:.1e} to {new_lr:.1e}\")\n",
    "    \n",
    "    history['train_loss'].append(tl)\n",
    "    history['train_acc'].append(ta)\n",
    "    history['val_loss'].append(vl)\n",
    "    history['val_acc'].append(va)\n",
    "\n",
    "    print(f\"Epoch {epoch:02d}  ➝  Train: {ta:.4f}/{tl:.4f} — Val: {va:.4f}/{vl:.4f}\")\n",
    "\n",
    "    # Early stopping & save best model\n",
    "    if va > best_val_acc:\n",
    "        best_val_acc = va\n",
    "        torch.save(final_model.state_dict(), \"best_drowsy_model.pth\")\n",
    "        patience = 0\n",
    "    else:\n",
    "        patience += 1\n",
    "        if patience >= 5:\n",
    "            print(\"Early stopping!\")\n",
    "            break\n"
   ]
  },
  {
   "cell_type": "markdown",
   "id": "4e92de74",
   "metadata": {},
   "source": [
    "# Training and Validation Metrics Visualization\n",
    "\n",
    "- Plot accuracy and loss curves over epochs for both training and validation sets.\n",
    "- Left plot shows how accuracy evolves, helping track learning progress.\n",
    "- Right plot shows loss trends, useful to detect overfitting or underfitting.\n",
    "- Visualization aids in diagnosing model performance and guiding further tuning.\n"
   ]
  },
  {
   "cell_type": "code",
   "execution_count": 13,
   "id": "05a60d9a",
   "metadata": {},
   "outputs": [
    {
     "data": {
      "image/png": "[encoded data removed]",
      "text/plain": [
       "<Figure size 1200x400 with 2 Axes>"
      ]
     },
     "metadata": {},
     "output_type": "display_data"
    }
   ],
   "source": [
    "import matplotlib.pyplot as plt\n",
    "\n",
    "epochs = range(1, len(history['train_acc']) + 1)\n",
    "\n",
    "plt.figure(figsize=(12,4))\n",
    "\n",
    "plt.subplot(1,2,1)\n",
    "plt.plot(epochs, history['train_acc'], label='Train Acc')\n",
    "plt.plot(epochs, history['val_acc'],   label='Val Acc')\n",
    "plt.title('Accuracy Over Epochs')\n",
    "plt.xlabel('Epoch')\n",
    "plt.ylabel('Accuracy')\n",
    "plt.legend()\n",
    "\n",
    "plt.subplot(1,2,2)\n",
    "plt.plot(epochs, history['train_loss'], label='Train Loss')\n",
    "plt.plot(epochs, history['val_loss'],   label='Val Loss')\n",
    "plt.title('Loss Over Epochs')\n",
    "plt.xlabel('Epoch')\n",
    "plt.ylabel('Loss')\n",
    "plt.legend()\n",
    "\n",
    "plt.show()\n"
   ]
  },
  {
   "cell_type": "markdown",
   "id": "9dff20e8",
   "metadata": {},
   "source": [
    "# Final Model Evaluation on Validation Set\n",
    "\n",
    "- Load the best saved model weights and set the model to evaluation mode.\n",
    "- Compute final validation loss and accuracy using the validation loader.\n",
    "- Generate detailed classification metrics including precision, recall, and F1-score per class.\n",
    "- Display confusion matrix showing true vs predicted labels.\n",
    "- The results indicate strong balanced performance between \"drowsy\" and \"non_drowsy\" classes, with an overall accuracy of ~93%.\n",
    "- Confusion matrix confirms most predictions are correct, with few misclassifications.\n"
   ]
  },
  {
   "cell_type": "code",
   "execution_count": null,
   "id": "0789cbe4",
   "metadata": {},
   "outputs": [
    {
     "name": "stdout",
     "output_type": "stream",
     "text": [
      "Final Val Acc: 0.9306 | Val Loss: 0.2153\n",
      "              precision    recall  f1-score   support\n",
      "\n",
      "      drowsy       0.94      0.93      0.93      4760\n",
      "  non_drowsy       0.92      0.93      0.93      4180\n",
      "\n",
      "    accuracy                           0.93      8940\n",
      "   macro avg       0.93      0.93      0.93      8940\n",
      "weighted avg       0.93      0.93      0.93      8940\n",
      "\n",
      "Confusion Matrix:\n",
      " [[4417  343]\n",
      " [ 277 3903]]\n"
     ]
    }
   ],
   "source": [
    "# Load the best saved model weights\n",
    "final_model.load_state_dict(torch.load(\"best_drowsy_model.pth\", map_location=device))\n",
    "final_model.eval()\n",
    "\n",
    "# Calculate final validation loss and accuracy\n",
    "val_loss, val_acc = validate(final_model, val_loader, criterion)\n",
    "print(f\"Final Val Acc: {val_acc:.4f} | Val Loss: {val_loss:.4f}\")\n",
    "\n",
    "from sklearn.metrics import classification_report, confusion_matrix\n",
    "all_preds, all_labels = [], []\n",
    "with torch.no_grad():\n",
    "    for X, y in val_loader:\n",
    "        X = X.to(device)\n",
    "        out = final_model(X).argmax(1).cpu().numpy()\n",
    "        all_preds.extend(out)\n",
    "        all_labels.extend(y.numpy())\n",
    "\n",
    "print(classification_report(all_labels, all_preds, target_names=train_ds.classes))\n",
    "print(\"Confusion Matrix:\\n\", confusion_matrix(all_labels, all_preds))\n"
   ]
  },
  {
   "cell_type": "markdown",
   "id": "9193c26c",
   "metadata": {},
   "source": [
    "# Confusion Matrix Visualization\n",
    "\n",
    "- Load the trained model and prepare for evaluation.\n",
    "- Aggregate predictions and true labels for the entire validation dataset.\n",
    "- Calculate the confusion matrix to analyze classification performance.\n",
    "- Display the confusion matrix using a blue color map for clear visual distinction.\n",
    "- Axes are labeled to show true vs predicted classes, aiding error analysis.\n"
   ]
  },
  {
   "cell_type": "code",
   "execution_count": null,
   "id": "a4d68a2e",
   "metadata": {},
   "outputs": [
    {
     "data": {
      "image/png": "[encoded data removed]",
      "text/plain": [
       "<Figure size 600x600 with 2 Axes>"
      ]
     },
     "metadata": {},
     "output_type": "display_data"
    }
   ],
   "source": [
    "import torch\n",
    "import matplotlib.pyplot as plt\n",
    "from sklearn.metrics import confusion_matrix, ConfusionMatrixDisplay\n",
    "\n",
    "final_model.load_state_dict(torch.load(\"best_drowsy_model.pth\", map_location=device))\n",
    "final_model.eval()\n",
    "\n",
    "all_preds, all_labels = [], []\n",
    "with torch.no_grad():\n",
    "    for X, y in val_loader:\n",
    "        X = X.to(device)\n",
    "        out = final_model(X).argmax(dim=1).cpu().numpy()\n",
    "        all_preds.extend(out)\n",
    "        all_labels.extend(y.numpy())\n",
    "\n",
    "cm = confusion_matrix(all_labels, all_preds)\n",
    "\n",
    "disp = ConfusionMatrixDisplay(confusion_matrix=cm,\n",
    "                              display_labels=train_ds.classes)\n",
    "fig, ax = plt.subplots(figsize=(6,6))\n",
    "disp.plot(cmap=plt.cm.Blues, ax=ax, values_format='d')\n",
    "ax.set_title('Confusion Matrix')\n",
    "ax.set_xlabel('Predicted Label')\n",
    "ax.set_ylabel('True Label')\n",
    "plt.show()\n"
   ]
  }
 ],
 "metadata": {
  "kernelspec": {
   "display_name": "ImageProcessing",
   "language": "python",
   "name": "python3"
  },
  "language_info": {
   "codemirror_mode": {
    "name": "ipython",
    "version": 3
   },
   "file_extension": ".py",
   "mimetype": "text/x-python",
   "name": "python",
   "nbconvert_exporter": "python",
   "pygments_lexer": "ipython3",
   "version": "3.9.21"
  }
 },
 "nbformat": 4,
 "nbformat_minor": 5
}
